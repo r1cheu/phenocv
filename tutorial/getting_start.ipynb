{
 "cells": [
  {
   "cell_type": "markdown",
   "source": [
    "# Getting Started"
   ],
   "metadata": {
    "collapsed": false
   },
   "id": "18c248d27b204972"
  },
  {
   "cell_type": "markdown",
   "source": [
    "## import the necessary packages"
   ],
   "metadata": {
    "collapsed": false
   },
   "id": "679a1577cb164954"
  },
  {
   "cell_type": "code",
   "execution_count": 1,
   "id": "initial_id",
   "metadata": {
    "collapsed": true,
    "ExecuteTime": {
     "end_time": "2024-02-20T03:59:07.334269200Z",
     "start_time": "2024-02-20T03:59:04.414596300Z"
    }
   },
   "outputs": [],
   "source": [
    "# install package\n",
    "!pip install torch torchvision phenocv\n",
    "try:\n",
    "    import torch\n",
    "except ImportError:\n",
    "    raise ImportError(\"PyTorch is not installed. Please install it using \"\n",
    "                          \"`pip install torch torchvision` or check the \"\n",
    "                      \"https://pytorch.org/get-started/locally/ for a custom \"\n",
    "                      \"installation\")\n",
    "    \n",
    "try:\n",
    "    import phenocv\n",
    "except ImportError:\n",
    "    raise ImportError(\"PhenoCV is not installed. Please install it using \"\n",
    "                          \"`pip install phenocv`\")"
   ]
  },
  {
   "cell_type": "markdown",
   "source": [
    "## Configs"
   ],
   "metadata": {
    "collapsed": false
   },
   "id": "cde77f3c0b17e759"
  },
  {
   "cell_type": "markdown",
   "source": [
    "The build of pipeline and the parameters are defined using a config and \n",
    "registry system. Here is an example of the config file for the panicle number\n",
    "analysis."
   ],
   "metadata": {
    "collapsed": false
   },
   "id": "350f96d5b7eb18b6"
  },
  {
   "cell_type": "code",
   "outputs": [
    {
     "name": "stdout",
     "output_type": "stream",
     "text": [
      "The config path is `D:\\Project\\phenocv\\phenocv\\configs\\sahi_panicle_num.cfg`,\n",
      "And the content is: \n",
      "#######################\n",
      "[predictor]\n",
      "@predictor = \"yolo_sahi_panicle_uav\"\n",
      "model_type = yolov8\n",
      "model_weight = https://github.com/r1cheu/phenocv/releases/download/v0.1.2/uav_panicle_yolov5n6u.pt\n",
      "device = 0\n",
      "conf = 0.25\n",
      "iou = 0.7\n",
      "slice_height = 1024\n",
      "slice_width = 1024\n",
      "overlap_height_ratio = 0.25\n",
      "overlap_width_ratio = 0.25\n",
      "\n",
      "[formatter]\n",
      "@formatter = \"naive\"\n",
      "\n",
      "#######################\n"
     ]
    }
   ],
   "source": [
    "from phenocv.utils import get_config_path\n",
    "\n",
    "config = get_config_path('sahi_panicle_num.cfg')\n",
    "print(f\"The config path is `{config}`,\\nAnd the content is: \")\n",
    "with open(config, 'r') as f:\n",
    "    print(\"#######################\")\n",
    "    print(f.read())\n",
    "    print(\"#######################\")"
   ],
   "metadata": {
    "collapsed": false,
    "ExecuteTime": {
     "end_time": "2024-02-20T03:59:07.350113700Z",
     "start_time": "2024-02-20T03:59:07.336269600Z"
    }
   },
   "id": "8aef450abbb19ab2",
   "execution_count": 2
  },
  {
   "cell_type": "markdown",
   "source": [
    "You can also modify the config file to fit your needs. Simply copy the content\n",
    "to a new file and modify the parameters. Note the suffix of the config file \n",
    "should be `.cfg`."
   ],
   "metadata": {
    "collapsed": false
   },
   "id": "f2029b53f7905bc2"
  },
  {
   "cell_type": "markdown",
   "source": [
    "## Load Analyzer"
   ],
   "metadata": {
    "collapsed": false
   },
   "id": "d118adfda850169"
  },
  {
   "cell_type": "code",
   "outputs": [],
   "source": [
    "from phenocv import PanicleNumAnalyzer, PanicleHeadingDateAnalyzer"
   ],
   "metadata": {
    "collapsed": false,
    "ExecuteTime": {
     "end_time": "2024-02-20T03:59:07.373214700Z",
     "start_time": "2024-02-20T03:59:07.351114900Z"
    }
   },
   "id": "32929716f1001b71",
   "execution_count": 3
  },
  {
   "cell_type": "markdown",
   "source": [
    "if only the panicle number is needed, using the PanicleNumAnalyzer. Prepare \n",
    "all the images in one folder and run the following code."
   ],
   "metadata": {
    "collapsed": false
   },
   "id": "211f25a4de47e5bc"
  },
  {
   "cell_type": "code",
   "outputs": [
    {
     "name": "stdout",
     "output_type": "stream",
     "text": [
      "Loading model from ./uav_panicle_yolov5n6u.pt\n"
     ]
    }
   ],
   "source": [
    "# if you wish to use a bigger model, you can override the model_weight \n",
    "# parameter (uncomment the following line)\n",
    "analyzer = PanicleNumAnalyzer('sahi_panicle_num.cfg', save_file='test.csv',)\n",
    "#                              override={'predictor':{\"model_weight\": \"https://github.com/r1cheu/phenocv/releases/download/v0.1.2/uav_panicle_yolov5m6u.pt\"}})"
   ],
   "metadata": {
    "collapsed": false,
    "ExecuteTime": {
     "end_time": "2024-02-20T03:59:09.143766700Z",
     "start_time": "2024-02-20T03:59:07.370114200Z"
    }
   },
   "id": "4b451fd01ed0acaf",
   "execution_count": 4
  },
  {
   "cell_type": "code",
   "outputs": [],
   "source": [
    "# prepare the image dir.\n",
    "!mkdir test_images\n",
    "!wget https://media.githubusercontent.com/media/r1cheu/phenocv/main/tutorial/test_images/20230808-GP240.jpg -P test_images/"
   ],
   "metadata": {
    "collapsed": false
   },
   "id": "dd08a78f09097b73"
  },
  {
   "cell_type": "code",
   "outputs": [
    {
     "name": "stderr",
     "output_type": "stream",
     "text": [
      "Processing SongJiang-20230808-4-18-GP240.jpg: 100%|██████████| 2/2 [00:11<00:00,  5.88s/it, num of panicle=180]"
     ]
    },
    {
     "name": "stdout",
     "output_type": "stream",
     "text": [
      "Processing Done, check the result: D:\\Project\\phenocv\\tutorial\\test_images_result and test.csv\n"
     ]
    },
    {
     "name": "stderr",
     "output_type": "stream",
     "text": [
      "\n"
     ]
    },
    {
     "data": {
      "text/plain": "                                          source  value\n0                 test_images\\20230808-GP240.jpg    270\n1  test_images\\SongJiang-20230808-4-18-GP240.jpg    180",
      "text/html": "<div>\n<style scoped>\n    .dataframe tbody tr th:only-of-type {\n        vertical-align: middle;\n    }\n\n    .dataframe tbody tr th {\n        vertical-align: top;\n    }\n\n    .dataframe thead th {\n        text-align: right;\n    }\n</style>\n<table border=\"1\" class=\"dataframe\">\n  <thead>\n    <tr style=\"text-align: right;\">\n      <th></th>\n      <th>source</th>\n      <th>value</th>\n    </tr>\n  </thead>\n  <tbody>\n    <tr>\n      <th>0</th>\n      <td>test_images\\20230808-GP240.jpg</td>\n      <td>270</td>\n    </tr>\n    <tr>\n      <th>1</th>\n      <td>test_images\\SongJiang-20230808-4-18-GP240.jpg</td>\n      <td>180</td>\n    </tr>\n  </tbody>\n</table>\n</div>"
     },
     "execution_count": 5,
     "metadata": {},
     "output_type": "execute_result"
    }
   ],
   "source": [
    "# set save_pred to True to save the prediction images\n",
    "analyzer('./test_images', img_suffix='.jpg', save_pred=True)"
   ],
   "metadata": {
    "collapsed": false,
    "ExecuteTime": {
     "end_time": "2024-02-20T03:59:20.933282200Z",
     "start_time": "2024-02-20T03:59:09.146192Z"
    }
   },
   "id": "c73d0ef0a89503f7",
   "execution_count": 5
  },
  {
   "cell_type": "code",
   "outputs": [],
   "source": [
    "from IPython.display import Image\n",
    "\n",
    "Image(filename='./test_images_result/pred/20230808-GP240.jpg')"
   ],
   "metadata": {
    "collapsed": false
   },
   "id": "624cd7d054c0c635"
  }
 ],
 "metadata": {
  "kernelspec": {
   "display_name": "Python 3",
   "language": "python",
   "name": "python3"
  },
  "language_info": {
   "codemirror_mode": {
    "name": "ipython",
    "version": 2
   },
   "file_extension": ".py",
   "mimetype": "text/x-python",
   "name": "python",
   "nbconvert_exporter": "python",
   "pygments_lexer": "ipython2",
   "version": "2.7.6"
  }
 },
 "nbformat": 4,
 "nbformat_minor": 5
}
